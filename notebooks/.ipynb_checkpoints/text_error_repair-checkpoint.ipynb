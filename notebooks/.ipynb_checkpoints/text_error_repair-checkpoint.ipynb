{
 "cells": [
  {
   "cell_type": "code",
   "execution_count": 12,
   "metadata": {},
   "outputs": [],
   "source": [
    "# This removes the comma from the early data sets I messed up\n",
    "!cd /Users/peycke/Documents/proj/ABDA/DGCNN/data/DFDC\n",
    "with open(r'/Users/peycke/Documents/proj/ABDA/DGCNN/data/DFDC/DFDC.txt', 'r') as infile, \\\n",
    "     open(r'/Users/peycke/Documents/proj/ABDA/DGCNN/data/DFDC/DFDC_new.txt', 'w') as outfile:\n",
    "    data = infile.read()\n",
    "    data = data.replace(\",\", \"\")\n",
    "    outfile.write(data)\n",
    "# After this verify new is correct, then replace the original"
   ]
  },
  {
   "cell_type": "code",
   "execution_count": null,
   "metadata": {},
   "outputs": [],
   "source": []
  }
 ],
 "metadata": {
  "kernelspec": {
   "display_name": "Python 3",
   "language": "python",
   "name": "python3"
  },
  "language_info": {
   "codemirror_mode": {
    "name": "ipython",
    "version": 3
   },
   "file_extension": ".py",
   "mimetype": "text/x-python",
   "name": "python",
   "nbconvert_exporter": "python",
   "pygments_lexer": "ipython3",
   "version": "3.7.3"
  }
 },
 "nbformat": 4,
 "nbformat_minor": 2
}
