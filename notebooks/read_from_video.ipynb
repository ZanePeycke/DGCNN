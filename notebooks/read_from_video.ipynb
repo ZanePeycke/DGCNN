{
 "cells": [
  {
   "cell_type": "code",
   "execution_count": 1,
   "metadata": {},
   "outputs": [],
   "source": [
    "import cv2 as cv\n",
    "# Read the image\n",
    "def read_image(video_filename,DIR):\n",
    "  \"\"\"Pass a filename and directory, return an image\n",
    "     Makes our full processing much easier later on\"\"\"\n",
    "  video_file = DIR + video_filename\n",
    "  cap = cv.VideoCapture(video_file)\n",
    "  success, image = cap.read()\n",
    "  image = cv.cvtColor(image, cv.COLOR_BGR2RGB)\n",
    "  cap.release()\n",
    "  return image"
   ]
  },
  {
   "cell_type": "code",
   "execution_count": 5,
   "metadata": {},
   "outputs": [],
   "source": [
    "vid_dir = '/home/jupyter/video_data/'\n",
    "video_filename = 'ahbweevwpv.mp4'\n",
    "image = read_image(video_filename, vid_dir)"
   ]
  },
  {
   "cell_type": "code",
   "execution_count": null,
   "metadata": {},
   "outputs": [],
   "source": []
  }
 ],
 "metadata": {
  "kernelspec": {
   "display_name": "Python 3",
   "language": "python",
   "name": "python3"
  },
  "language_info": {
   "codemirror_mode": {
    "name": "ipython",
    "version": 3
   },
   "file_extension": ".py",
   "mimetype": "text/x-python",
   "name": "python",
   "nbconvert_exporter": "python",
   "pygments_lexer": "ipython3",
   "version": "3.7.6"
  }
 },
 "nbformat": 4,
 "nbformat_minor": 4
}
