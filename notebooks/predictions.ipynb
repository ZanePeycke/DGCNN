{
 "cells": [
  {
   "cell_type": "code",
   "execution_count": 1,
   "metadata": {},
   "outputs": [],
   "source": [
    "# !python main.py -data 'MUTAG' -FOLD 2  -latent_dim \"32-32-32-1\""
   ]
  },
  {
   "cell_type": "code",
   "execution_count": 2,
   "metadata": {},
   "outputs": [],
   "source": [
    "from util import cmd_args, load_data, load_new_data\n",
    "from main import Classifier, loop_dataset"
   ]
  },
  {
   "cell_type": "code",
   "execution_count": 3,
   "metadata": {},
   "outputs": [
    {
     "data": {
      "text/plain": [
       "Classifier(\n",
       "  (gnn): DGCNN(\n",
       "    (conv_params): ModuleList(\n",
       "      (0): Linear(in_features=11, out_features=32, bias=True)\n",
       "      (1): Linear(in_features=32, out_features=32, bias=True)\n",
       "      (2): Linear(in_features=32, out_features=32, bias=True)\n",
       "      (3): Linear(in_features=32, out_features=1, bias=True)\n",
       "    )\n",
       "    (conv1d_params1): Conv1d(1, 16, kernel_size=(97,), stride=(97,))\n",
       "    (maxpool1d): MaxPool1d(kernel_size=2, stride=2, padding=0, dilation=1, ceil_mode=False)\n",
       "    (conv1d_params2): Conv1d(16, 32, kernel_size=(5,), stride=(1,))\n",
       "    (conv1d_activation): ReLU()\n",
       "  )\n",
       "  (mlp): MLPClassifier(\n",
       "    (h1_weights): Linear(in_features=1024, out_features=128, bias=True)\n",
       "    (h2_weights): Linear(in_features=128, out_features=2, bias=True)\n",
       "  )\n",
       ")"
      ]
     },
     "execution_count": 3,
     "metadata": {},
     "output_type": "execute_result"
    }
   ],
   "source": [
    "import torch\n",
    "PATH = '/home/jupyter/saved_models/epoch-best-entire.model'\n",
    "classifier = torch.load(PATH)\n",
    "classifier.cuda()\n",
    "classifier.eval()"
   ]
  },
  {
   "cell_type": "code",
   "execution_count": 4,
   "metadata": {},
   "outputs": [
    {
     "name": "stdout",
     "output_type": "stream",
     "text": [
      "loading new data\n",
      "# classes: 2\n",
      "# maximum node tag: 9\n"
     ]
    }
   ],
   "source": [
    "test = load_new_data('DFDC_sample')"
   ]
  },
  {
   "cell_type": "code",
   "execution_count": 6,
   "metadata": {},
   "outputs": [
    {
     "name": "stderr",
     "output_type": "stream",
     "text": [
      "loss: 0.55794 acc: 0.79167: 100%|██████████| 7/7 [00:01<00:00,  6.24batch/s]"
     ]
    },
    {
     "name": "stdout",
     "output_type": "stream",
     "text": [
      "The total number of targets 348\n",
      "On unseen test data: loss 0.48730 acc 0.80172 auc 0.60929\u001b[0m\n"
     ]
    },
    {
     "name": "stderr",
     "output_type": "stream",
     "text": [
      "\n"
     ]
    }
   ],
   "source": [
    "test_loss = loop_dataset(test, classifier, list(range(len(test))))\n",
    "print('On unseen test data: loss %.5f acc %.5f auc %.5f\\033[0m' % (test_loss[0], test_loss[1], test_loss[2]))"
   ]
  }
 ],
 "metadata": {
  "kernelspec": {
   "display_name": "Python 3",
   "language": "python",
   "name": "python3"
  },
  "language_info": {
   "codemirror_mode": {
    "name": "ipython",
    "version": 3
   },
   "file_extension": ".py",
   "mimetype": "text/x-python",
   "name": "python",
   "nbconvert_exporter": "python",
   "pygments_lexer": "ipython3",
   "version": "3.7.6"
  }
 },
 "nbformat": 4,
 "nbformat_minor": 4
}
