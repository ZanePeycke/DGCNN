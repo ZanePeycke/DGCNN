{
 "cells": [
  {
   "cell_type": "code",
   "execution_count": null,
   "metadata": {},
   "outputs": [],
   "source": [
    "with open('c:\\NDCHypen.txt', 'r') as infile,\n",
    "     open('c:\\NDCOnly.txt', 'w') as outfile:\n",
    "    replace(\"-\", \"\")"
   ]
  },
  {
   "cell_type": "code",
   "execution_count": 12,
   "metadata": {},
   "outputs": [],
   "source": [
    "!cd /Users/peycke/Documents/proj/ABDA/DGCNN/data/DFDC\n",
    "with open(r'/Users/peycke/Documents/proj/ABDA/DGCNN/data/DFDC/DFDC.txt', 'r') as infile, \\\n",
    "     open(r'/Users/peycke/Documents/proj/ABDA/DGCNN/data/DFDC/DFDC_new.txt', 'w') as outfile:\n",
    "    data = infile.read()\n",
    "    data = data.replace(\",\", \"\")\n",
    "    outfile.write(data)"
   ]
  },
  {
   "cell_type": "code",
   "execution_count": 3,
   "metadata": {},
   "outputs": [
    {
     "name": "stdout",
     "output_type": "stream",
     "text": [
      "/Users/peycke/Documents/proj/ABDA/DGCNN/notebooks\r\n"
     ]
    }
   ],
   "source": [
    "![]"
   ]
  },
  {
   "cell_type": "code",
   "execution_count": null,
   "metadata": {},
   "outputs": [],
   "source": []
  }
 ],
 "metadata": {
  "kernelspec": {
   "display_name": "Python 3",
   "language": "python",
   "name": "python3"
  },
  "language_info": {
   "codemirror_mode": {
    "name": "ipython",
    "version": 3
   },
   "file_extension": ".py",
   "mimetype": "text/x-python",
   "name": "python",
   "nbconvert_exporter": "python",
   "pygments_lexer": "ipython3",
   "version": "3.7.3"
  }
 },
 "nbformat": 4,
 "nbformat_minor": 2
}
