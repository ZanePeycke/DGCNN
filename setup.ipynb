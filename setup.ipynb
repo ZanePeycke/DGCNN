{
 "cells": [
  {
   "cell_type": "code",
   "execution_count": null,
   "metadata": {},
   "outputs": [],
   "source": [
    "!git clone https://github.com/ZanePeycke/DGCNN.git\n",
    "!pip install -r DGCNN/requirements.txt"
   ]
  },
  {
   "cell_type": "code",
   "execution_count": null,
   "metadata": {},
   "outputs": [],
   "source": [
    "!mkdir saved_models\n",
    "!mkdir GCS_bucket\n",
    "!gcsfuse --implicit-dirs deepfake GCS_bucket"
   ]
  },
  {
   "cell_type": "code",
   "execution_count": null,
   "metadata": {},
   "outputs": [],
   "source": [
    "# %cd /home/jupyter\n",
    "# !unzip data/home/jupyter/data.zip"
   ]
  },
  {
   "cell_type": "code",
   "execution_count": null,
   "metadata": {},
   "outputs": [],
   "source": [
    "# Check folder contents\n",
    "import os, os.path\n",
    "\n",
    "DIR = 'data/original_sequences/youtube/c23/videos'\n",
    "print (len([name for name in os.listdir(DIR) if os.path.isfile(os.path.join(DIR, name))]))"
   ]
  },
  {
   "cell_type": "code",
   "execution_count": null,
   "metadata": {},
   "outputs": [],
   "source": [
    "# Download additional data\n",
    "# FF Benchmark data (Testing only)\n",
    "# !wget http://kaldir.vc.in.tum.de/faceforensics_benchmark_images.zip\n",
    "# !gsutil -m cp /home/jupyter/faceforensics_benchmark_images.zip gs://deepfake/faceforensics_benchmark_images.zip\n"
   ]
  },
  {
   "cell_type": "code",
   "execution_count": null,
   "metadata": {},
   "outputs": [],
   "source": [
    "# !gsutil -m cp gs://deepfake/graph_data/FF/FF_3.txt /home/jupyter/DGCNN/data/FF/FF.txt"
   ]
  },
  {
   "cell_type": "code",
   "execution_count": null,
   "metadata": {},
   "outputs": [],
   "source": []
  }
 ],
 "metadata": {
  "kernelspec": {
   "display_name": "Python 3",
   "language": "python",
   "name": "python3"
  },
  "language_info": {
   "codemirror_mode": {
    "name": "ipython",
    "version": 3
   },
   "file_extension": ".py",
   "mimetype": "text/x-python",
   "name": "python",
   "nbconvert_exporter": "python",
   "pygments_lexer": "ipython3",
   "version": "3.7.6"
  }
 },
 "nbformat": 4,
 "nbformat_minor": 4
}
